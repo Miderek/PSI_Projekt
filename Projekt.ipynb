{
 "cells": [
  {
   "cell_type": "code",
   "execution_count": 1,
   "metadata": {},
   "outputs": [],
   "source": [
    "import pandas as pd\n",
    "import numpy as np\n",
    "import matplotlib.pyplot as plt\n",
    "import seaborn as sns\n",
    "from sklearn.pipeline import make_pipeline\n",
    "from sklearn.pipeline import Pipeline\n",
    "from imblearn.pipeline import Pipeline\n",
    "from sklearn.preprocessing import StandardScaler\n",
    "from sklearn.model_selection import GridSearchCV\n",
    "from sklearn.linear_model import LogisticRegression\n",
    "from sklearn.svm import LinearSVC\n",
    "from sklearn.ensemble import RandomForestClassifier\n",
    "from sklearn.tree import DecisionTreeClassifier\n",
    "from sklearn.ensemble import AdaBoostClassifier\n",
    "from sklearn.ensemble import GradientBoostingClassifier\n",
    "from imblearn.over_sampling import SMOTE\n",
    "from imblearn.under_sampling import RandomUnderSampler"
   ]
  },
  {
   "cell_type": "code",
   "execution_count": 2,
   "metadata": {},
   "outputs": [
    {
     "data": {
      "text/html": [
       "<div>\n",
       "<style scoped>\n",
       "    .dataframe tbody tr th:only-of-type {\n",
       "        vertical-align: middle;\n",
       "    }\n",
       "\n",
       "    .dataframe tbody tr th {\n",
       "        vertical-align: top;\n",
       "    }\n",
       "\n",
       "    .dataframe thead th {\n",
       "        text-align: right;\n",
       "    }\n",
       "</style>\n",
       "<table border=\"1\" class=\"dataframe\">\n",
       "  <thead>\n",
       "    <tr style=\"text-align: right;\">\n",
       "      <th></th>\n",
       "      <th>Diabetes_binary</th>\n",
       "      <th>HighBP</th>\n",
       "      <th>HighChol</th>\n",
       "      <th>CholCheck</th>\n",
       "      <th>BMI</th>\n",
       "      <th>Smoker</th>\n",
       "      <th>Stroke</th>\n",
       "      <th>HeartDiseaseorAttack</th>\n",
       "      <th>PhysActivity</th>\n",
       "      <th>Fruits</th>\n",
       "      <th>...</th>\n",
       "      <th>AnyHealthcare</th>\n",
       "      <th>NoDocbcCost</th>\n",
       "      <th>GenHlth</th>\n",
       "      <th>MentHlth</th>\n",
       "      <th>PhysHlth</th>\n",
       "      <th>DiffWalk</th>\n",
       "      <th>Sex</th>\n",
       "      <th>Age</th>\n",
       "      <th>Education</th>\n",
       "      <th>Income</th>\n",
       "    </tr>\n",
       "  </thead>\n",
       "  <tbody>\n",
       "    <tr>\n",
       "      <th>0</th>\n",
       "      <td>0.0</td>\n",
       "      <td>1.0</td>\n",
       "      <td>1.0</td>\n",
       "      <td>1.0</td>\n",
       "      <td>40.0</td>\n",
       "      <td>1.0</td>\n",
       "      <td>0.0</td>\n",
       "      <td>0.0</td>\n",
       "      <td>0.0</td>\n",
       "      <td>0.0</td>\n",
       "      <td>...</td>\n",
       "      <td>1.0</td>\n",
       "      <td>0.0</td>\n",
       "      <td>5.0</td>\n",
       "      <td>18.0</td>\n",
       "      <td>15.0</td>\n",
       "      <td>1.0</td>\n",
       "      <td>0.0</td>\n",
       "      <td>9.0</td>\n",
       "      <td>4.0</td>\n",
       "      <td>3.0</td>\n",
       "    </tr>\n",
       "    <tr>\n",
       "      <th>1</th>\n",
       "      <td>0.0</td>\n",
       "      <td>0.0</td>\n",
       "      <td>0.0</td>\n",
       "      <td>0.0</td>\n",
       "      <td>25.0</td>\n",
       "      <td>1.0</td>\n",
       "      <td>0.0</td>\n",
       "      <td>0.0</td>\n",
       "      <td>1.0</td>\n",
       "      <td>0.0</td>\n",
       "      <td>...</td>\n",
       "      <td>0.0</td>\n",
       "      <td>1.0</td>\n",
       "      <td>3.0</td>\n",
       "      <td>0.0</td>\n",
       "      <td>0.0</td>\n",
       "      <td>0.0</td>\n",
       "      <td>0.0</td>\n",
       "      <td>7.0</td>\n",
       "      <td>6.0</td>\n",
       "      <td>1.0</td>\n",
       "    </tr>\n",
       "    <tr>\n",
       "      <th>2</th>\n",
       "      <td>0.0</td>\n",
       "      <td>1.0</td>\n",
       "      <td>1.0</td>\n",
       "      <td>1.0</td>\n",
       "      <td>28.0</td>\n",
       "      <td>0.0</td>\n",
       "      <td>0.0</td>\n",
       "      <td>0.0</td>\n",
       "      <td>0.0</td>\n",
       "      <td>1.0</td>\n",
       "      <td>...</td>\n",
       "      <td>1.0</td>\n",
       "      <td>1.0</td>\n",
       "      <td>5.0</td>\n",
       "      <td>30.0</td>\n",
       "      <td>30.0</td>\n",
       "      <td>1.0</td>\n",
       "      <td>0.0</td>\n",
       "      <td>9.0</td>\n",
       "      <td>4.0</td>\n",
       "      <td>8.0</td>\n",
       "    </tr>\n",
       "    <tr>\n",
       "      <th>3</th>\n",
       "      <td>0.0</td>\n",
       "      <td>1.0</td>\n",
       "      <td>0.0</td>\n",
       "      <td>1.0</td>\n",
       "      <td>27.0</td>\n",
       "      <td>0.0</td>\n",
       "      <td>0.0</td>\n",
       "      <td>0.0</td>\n",
       "      <td>1.0</td>\n",
       "      <td>1.0</td>\n",
       "      <td>...</td>\n",
       "      <td>1.0</td>\n",
       "      <td>0.0</td>\n",
       "      <td>2.0</td>\n",
       "      <td>0.0</td>\n",
       "      <td>0.0</td>\n",
       "      <td>0.0</td>\n",
       "      <td>0.0</td>\n",
       "      <td>11.0</td>\n",
       "      <td>3.0</td>\n",
       "      <td>6.0</td>\n",
       "    </tr>\n",
       "    <tr>\n",
       "      <th>4</th>\n",
       "      <td>0.0</td>\n",
       "      <td>1.0</td>\n",
       "      <td>1.0</td>\n",
       "      <td>1.0</td>\n",
       "      <td>24.0</td>\n",
       "      <td>0.0</td>\n",
       "      <td>0.0</td>\n",
       "      <td>0.0</td>\n",
       "      <td>1.0</td>\n",
       "      <td>1.0</td>\n",
       "      <td>...</td>\n",
       "      <td>1.0</td>\n",
       "      <td>0.0</td>\n",
       "      <td>2.0</td>\n",
       "      <td>3.0</td>\n",
       "      <td>0.0</td>\n",
       "      <td>0.0</td>\n",
       "      <td>0.0</td>\n",
       "      <td>11.0</td>\n",
       "      <td>5.0</td>\n",
       "      <td>4.0</td>\n",
       "    </tr>\n",
       "    <tr>\n",
       "      <th>...</th>\n",
       "      <td>...</td>\n",
       "      <td>...</td>\n",
       "      <td>...</td>\n",
       "      <td>...</td>\n",
       "      <td>...</td>\n",
       "      <td>...</td>\n",
       "      <td>...</td>\n",
       "      <td>...</td>\n",
       "      <td>...</td>\n",
       "      <td>...</td>\n",
       "      <td>...</td>\n",
       "      <td>...</td>\n",
       "      <td>...</td>\n",
       "      <td>...</td>\n",
       "      <td>...</td>\n",
       "      <td>...</td>\n",
       "      <td>...</td>\n",
       "      <td>...</td>\n",
       "      <td>...</td>\n",
       "      <td>...</td>\n",
       "      <td>...</td>\n",
       "    </tr>\n",
       "    <tr>\n",
       "      <th>253675</th>\n",
       "      <td>0.0</td>\n",
       "      <td>1.0</td>\n",
       "      <td>1.0</td>\n",
       "      <td>1.0</td>\n",
       "      <td>45.0</td>\n",
       "      <td>0.0</td>\n",
       "      <td>0.0</td>\n",
       "      <td>0.0</td>\n",
       "      <td>0.0</td>\n",
       "      <td>1.0</td>\n",
       "      <td>...</td>\n",
       "      <td>1.0</td>\n",
       "      <td>0.0</td>\n",
       "      <td>3.0</td>\n",
       "      <td>0.0</td>\n",
       "      <td>5.0</td>\n",
       "      <td>0.0</td>\n",
       "      <td>1.0</td>\n",
       "      <td>5.0</td>\n",
       "      <td>6.0</td>\n",
       "      <td>7.0</td>\n",
       "    </tr>\n",
       "    <tr>\n",
       "      <th>253676</th>\n",
       "      <td>1.0</td>\n",
       "      <td>1.0</td>\n",
       "      <td>1.0</td>\n",
       "      <td>1.0</td>\n",
       "      <td>18.0</td>\n",
       "      <td>0.0</td>\n",
       "      <td>0.0</td>\n",
       "      <td>0.0</td>\n",
       "      <td>0.0</td>\n",
       "      <td>0.0</td>\n",
       "      <td>...</td>\n",
       "      <td>1.0</td>\n",
       "      <td>0.0</td>\n",
       "      <td>4.0</td>\n",
       "      <td>0.0</td>\n",
       "      <td>0.0</td>\n",
       "      <td>1.0</td>\n",
       "      <td>0.0</td>\n",
       "      <td>11.0</td>\n",
       "      <td>2.0</td>\n",
       "      <td>4.0</td>\n",
       "    </tr>\n",
       "    <tr>\n",
       "      <th>253677</th>\n",
       "      <td>0.0</td>\n",
       "      <td>0.0</td>\n",
       "      <td>0.0</td>\n",
       "      <td>1.0</td>\n",
       "      <td>28.0</td>\n",
       "      <td>0.0</td>\n",
       "      <td>0.0</td>\n",
       "      <td>0.0</td>\n",
       "      <td>1.0</td>\n",
       "      <td>1.0</td>\n",
       "      <td>...</td>\n",
       "      <td>1.0</td>\n",
       "      <td>0.0</td>\n",
       "      <td>1.0</td>\n",
       "      <td>0.0</td>\n",
       "      <td>0.0</td>\n",
       "      <td>0.0</td>\n",
       "      <td>0.0</td>\n",
       "      <td>2.0</td>\n",
       "      <td>5.0</td>\n",
       "      <td>2.0</td>\n",
       "    </tr>\n",
       "    <tr>\n",
       "      <th>253678</th>\n",
       "      <td>0.0</td>\n",
       "      <td>1.0</td>\n",
       "      <td>0.0</td>\n",
       "      <td>1.0</td>\n",
       "      <td>23.0</td>\n",
       "      <td>0.0</td>\n",
       "      <td>0.0</td>\n",
       "      <td>0.0</td>\n",
       "      <td>0.0</td>\n",
       "      <td>1.0</td>\n",
       "      <td>...</td>\n",
       "      <td>1.0</td>\n",
       "      <td>0.0</td>\n",
       "      <td>3.0</td>\n",
       "      <td>0.0</td>\n",
       "      <td>0.0</td>\n",
       "      <td>0.0</td>\n",
       "      <td>1.0</td>\n",
       "      <td>7.0</td>\n",
       "      <td>5.0</td>\n",
       "      <td>1.0</td>\n",
       "    </tr>\n",
       "    <tr>\n",
       "      <th>253679</th>\n",
       "      <td>1.0</td>\n",
       "      <td>1.0</td>\n",
       "      <td>1.0</td>\n",
       "      <td>1.0</td>\n",
       "      <td>25.0</td>\n",
       "      <td>0.0</td>\n",
       "      <td>0.0</td>\n",
       "      <td>1.0</td>\n",
       "      <td>1.0</td>\n",
       "      <td>1.0</td>\n",
       "      <td>...</td>\n",
       "      <td>1.0</td>\n",
       "      <td>0.0</td>\n",
       "      <td>2.0</td>\n",
       "      <td>0.0</td>\n",
       "      <td>0.0</td>\n",
       "      <td>0.0</td>\n",
       "      <td>0.0</td>\n",
       "      <td>9.0</td>\n",
       "      <td>6.0</td>\n",
       "      <td>2.0</td>\n",
       "    </tr>\n",
       "  </tbody>\n",
       "</table>\n",
       "<p>253680 rows × 22 columns</p>\n",
       "</div>"
      ],
      "text/plain": [
       "        Diabetes_binary  HighBP  HighChol  CholCheck   BMI  Smoker  Stroke  \\\n",
       "0                   0.0     1.0       1.0        1.0  40.0     1.0     0.0   \n",
       "1                   0.0     0.0       0.0        0.0  25.0     1.0     0.0   \n",
       "2                   0.0     1.0       1.0        1.0  28.0     0.0     0.0   \n",
       "3                   0.0     1.0       0.0        1.0  27.0     0.0     0.0   \n",
       "4                   0.0     1.0       1.0        1.0  24.0     0.0     0.0   \n",
       "...                 ...     ...       ...        ...   ...     ...     ...   \n",
       "253675              0.0     1.0       1.0        1.0  45.0     0.0     0.0   \n",
       "253676              1.0     1.0       1.0        1.0  18.0     0.0     0.0   \n",
       "253677              0.0     0.0       0.0        1.0  28.0     0.0     0.0   \n",
       "253678              0.0     1.0       0.0        1.0  23.0     0.0     0.0   \n",
       "253679              1.0     1.0       1.0        1.0  25.0     0.0     0.0   \n",
       "\n",
       "        HeartDiseaseorAttack  PhysActivity  Fruits  ...  AnyHealthcare  \\\n",
       "0                        0.0           0.0     0.0  ...            1.0   \n",
       "1                        0.0           1.0     0.0  ...            0.0   \n",
       "2                        0.0           0.0     1.0  ...            1.0   \n",
       "3                        0.0           1.0     1.0  ...            1.0   \n",
       "4                        0.0           1.0     1.0  ...            1.0   \n",
       "...                      ...           ...     ...  ...            ...   \n",
       "253675                   0.0           0.0     1.0  ...            1.0   \n",
       "253676                   0.0           0.0     0.0  ...            1.0   \n",
       "253677                   0.0           1.0     1.0  ...            1.0   \n",
       "253678                   0.0           0.0     1.0  ...            1.0   \n",
       "253679                   1.0           1.0     1.0  ...            1.0   \n",
       "\n",
       "        NoDocbcCost  GenHlth  MentHlth  PhysHlth  DiffWalk  Sex   Age  \\\n",
       "0               0.0      5.0      18.0      15.0       1.0  0.0   9.0   \n",
       "1               1.0      3.0       0.0       0.0       0.0  0.0   7.0   \n",
       "2               1.0      5.0      30.0      30.0       1.0  0.0   9.0   \n",
       "3               0.0      2.0       0.0       0.0       0.0  0.0  11.0   \n",
       "4               0.0      2.0       3.0       0.0       0.0  0.0  11.0   \n",
       "...             ...      ...       ...       ...       ...  ...   ...   \n",
       "253675          0.0      3.0       0.0       5.0       0.0  1.0   5.0   \n",
       "253676          0.0      4.0       0.0       0.0       1.0  0.0  11.0   \n",
       "253677          0.0      1.0       0.0       0.0       0.0  0.0   2.0   \n",
       "253678          0.0      3.0       0.0       0.0       0.0  1.0   7.0   \n",
       "253679          0.0      2.0       0.0       0.0       0.0  0.0   9.0   \n",
       "\n",
       "        Education  Income  \n",
       "0             4.0     3.0  \n",
       "1             6.0     1.0  \n",
       "2             4.0     8.0  \n",
       "3             3.0     6.0  \n",
       "4             5.0     4.0  \n",
       "...           ...     ...  \n",
       "253675        6.0     7.0  \n",
       "253676        2.0     4.0  \n",
       "253677        5.0     2.0  \n",
       "253678        5.0     1.0  \n",
       "253679        6.0     2.0  \n",
       "\n",
       "[253680 rows x 22 columns]"
      ]
     },
     "execution_count": 2,
     "metadata": {},
     "output_type": "execute_result"
    }
   ],
   "source": [
    "data = pd.read_csv('diabetes_binary_health_indicators_BRFSS2015.csv',sep = ',')\n",
    "data"
   ]
  },
  {
   "cell_type": "code",
   "execution_count": 3,
   "metadata": {},
   "outputs": [
    {
     "name": "stdout",
     "output_type": "stream",
     "text": [
      "Diabetes_binary         False\n",
      "HighBP                  False\n",
      "HighChol                False\n",
      "CholCheck               False\n",
      "BMI                     False\n",
      "Smoker                  False\n",
      "Stroke                  False\n",
      "HeartDiseaseorAttack    False\n",
      "PhysActivity            False\n",
      "Fruits                  False\n",
      "Veggies                 False\n",
      "HvyAlcoholConsump       False\n",
      "AnyHealthcare           False\n",
      "NoDocbcCost             False\n",
      "GenHlth                 False\n",
      "MentHlth                False\n",
      "PhysHlth                False\n",
      "DiffWalk                False\n",
      "Sex                     False\n",
      "Age                     False\n",
      "Education               False\n",
      "Income                  False\n",
      "dtype: bool\n"
     ]
    }
   ],
   "source": [
    "print(data.isnull().any())"
   ]
  },
  {
   "cell_type": "code",
   "execution_count": 4,
   "metadata": {},
   "outputs": [
    {
     "data": {
      "text/plain": [
       "True"
      ]
     },
     "execution_count": 4,
     "metadata": {},
     "output_type": "execute_result"
    }
   ],
   "source": [
    "data.duplicated().any()"
   ]
  },
  {
   "cell_type": "code",
   "execution_count": 5,
   "metadata": {},
   "outputs": [],
   "source": [
    "data.drop_duplicates(inplace=True)"
   ]
  },
  {
   "cell_type": "code",
   "execution_count": 6,
   "metadata": {},
   "outputs": [
    {
     "data": {
      "text/plain": [
       "False"
      ]
     },
     "execution_count": 6,
     "metadata": {},
     "output_type": "execute_result"
    }
   ],
   "source": [
    "data.duplicated().any()"
   ]
  },
  {
   "cell_type": "code",
   "execution_count": 7,
   "metadata": {},
   "outputs": [
    {
     "data": {
      "text/plain": [
       "Diabetes_binary         False\n",
       "HighBP                  False\n",
       "HighChol                False\n",
       "CholCheck               False\n",
       "BMI                     False\n",
       "Smoker                  False\n",
       "Stroke                  False\n",
       "HeartDiseaseorAttack    False\n",
       "PhysActivity            False\n",
       "Fruits                  False\n",
       "Veggies                 False\n",
       "HvyAlcoholConsump       False\n",
       "AnyHealthcare           False\n",
       "NoDocbcCost             False\n",
       "GenHlth                 False\n",
       "MentHlth                False\n",
       "PhysHlth                False\n",
       "DiffWalk                False\n",
       "Sex                     False\n",
       "Age                     False\n",
       "Education               False\n",
       "Income                  False\n",
       "dtype: bool"
      ]
     },
     "execution_count": 7,
     "metadata": {},
     "output_type": "execute_result"
    }
   ],
   "source": [
    "data.isna().any()"
   ]
  },
  {
   "cell_type": "code",
   "execution_count": 8,
   "metadata": {},
   "outputs": [
    {
     "data": {
      "text/html": [
       "<div>\n",
       "<style scoped>\n",
       "    .dataframe tbody tr th:only-of-type {\n",
       "        vertical-align: middle;\n",
       "    }\n",
       "\n",
       "    .dataframe tbody tr th {\n",
       "        vertical-align: top;\n",
       "    }\n",
       "\n",
       "    .dataframe thead th {\n",
       "        text-align: right;\n",
       "    }\n",
       "</style>\n",
       "<table border=\"1\" class=\"dataframe\">\n",
       "  <thead>\n",
       "    <tr style=\"text-align: right;\">\n",
       "      <th></th>\n",
       "      <th>Diabetes_binary</th>\n",
       "      <th>HighBP</th>\n",
       "      <th>HighChol</th>\n",
       "      <th>CholCheck</th>\n",
       "      <th>BMI</th>\n",
       "      <th>Smoker</th>\n",
       "      <th>Stroke</th>\n",
       "      <th>HeartDiseaseorAttack</th>\n",
       "      <th>PhysActivity</th>\n",
       "      <th>Fruits</th>\n",
       "      <th>...</th>\n",
       "      <th>AnyHealthcare</th>\n",
       "      <th>NoDocbcCost</th>\n",
       "      <th>GenHlth</th>\n",
       "      <th>MentHlth</th>\n",
       "      <th>PhysHlth</th>\n",
       "      <th>DiffWalk</th>\n",
       "      <th>Sex</th>\n",
       "      <th>Age</th>\n",
       "      <th>Education</th>\n",
       "      <th>Income</th>\n",
       "    </tr>\n",
       "  </thead>\n",
       "  <tbody>\n",
       "    <tr>\n",
       "      <th>Diabetes_binary</th>\n",
       "      <td>1.000000</td>\n",
       "      <td>0.254318</td>\n",
       "      <td>0.194944</td>\n",
       "      <td>0.072523</td>\n",
       "      <td>0.205086</td>\n",
       "      <td>0.045504</td>\n",
       "      <td>0.099193</td>\n",
       "      <td>0.168213</td>\n",
       "      <td>-0.100404</td>\n",
       "      <td>-0.024805</td>\n",
       "      <td>...</td>\n",
       "      <td>0.025331</td>\n",
       "      <td>0.020048</td>\n",
       "      <td>0.276940</td>\n",
       "      <td>0.054153</td>\n",
       "      <td>0.156211</td>\n",
       "      <td>0.205302</td>\n",
       "      <td>0.032724</td>\n",
       "      <td>0.177263</td>\n",
       "      <td>-0.102686</td>\n",
       "      <td>-0.140659</td>\n",
       "    </tr>\n",
       "    <tr>\n",
       "      <th>HighBP</th>\n",
       "      <td>0.254318</td>\n",
       "      <td>1.000000</td>\n",
       "      <td>0.283963</td>\n",
       "      <td>0.111259</td>\n",
       "      <td>0.194218</td>\n",
       "      <td>0.074264</td>\n",
       "      <td>0.124558</td>\n",
       "      <td>0.201443</td>\n",
       "      <td>-0.104382</td>\n",
       "      <td>-0.019467</td>\n",
       "      <td>...</td>\n",
       "      <td>0.052044</td>\n",
       "      <td>0.002292</td>\n",
       "      <td>0.272784</td>\n",
       "      <td>0.037482</td>\n",
       "      <td>0.144656</td>\n",
       "      <td>0.211759</td>\n",
       "      <td>0.047119</td>\n",
       "      <td>0.339802</td>\n",
       "      <td>-0.112887</td>\n",
       "      <td>-0.140030</td>\n",
       "    </tr>\n",
       "    <tr>\n",
       "      <th>HighChol</th>\n",
       "      <td>0.194944</td>\n",
       "      <td>0.283963</td>\n",
       "      <td>1.000000</td>\n",
       "      <td>0.094772</td>\n",
       "      <td>0.089734</td>\n",
       "      <td>0.074583</td>\n",
       "      <td>0.089375</td>\n",
       "      <td>0.176446</td>\n",
       "      <td>-0.063443</td>\n",
       "      <td>-0.026257</td>\n",
       "      <td>...</td>\n",
       "      <td>0.052363</td>\n",
       "      <td>0.003020</td>\n",
       "      <td>0.188139</td>\n",
       "      <td>0.050346</td>\n",
       "      <td>0.111008</td>\n",
       "      <td>0.136045</td>\n",
       "      <td>0.022859</td>\n",
       "      <td>0.263841</td>\n",
       "      <td>-0.050045</td>\n",
       "      <td>-0.062089</td>\n",
       "    </tr>\n",
       "    <tr>\n",
       "      <th>CholCheck</th>\n",
       "      <td>0.072523</td>\n",
       "      <td>0.111259</td>\n",
       "      <td>0.094772</td>\n",
       "      <td>1.000000</td>\n",
       "      <td>0.042487</td>\n",
       "      <td>-0.003721</td>\n",
       "      <td>0.027955</td>\n",
       "      <td>0.050086</td>\n",
       "      <td>-0.004555</td>\n",
       "      <td>0.017860</td>\n",
       "      <td>...</td>\n",
       "      <td>0.115498</td>\n",
       "      <td>-0.054128</td>\n",
       "      <td>0.062939</td>\n",
       "      <td>-0.001430</td>\n",
       "      <td>0.040758</td>\n",
       "      <td>0.049107</td>\n",
       "      <td>-0.024332</td>\n",
       "      <td>0.095942</td>\n",
       "      <td>-0.009935</td>\n",
       "      <td>0.001989</td>\n",
       "    </tr>\n",
       "    <tr>\n",
       "      <th>BMI</th>\n",
       "      <td>0.205086</td>\n",
       "      <td>0.194218</td>\n",
       "      <td>0.089734</td>\n",
       "      <td>0.042487</td>\n",
       "      <td>1.000000</td>\n",
       "      <td>-0.009294</td>\n",
       "      <td>0.011006</td>\n",
       "      <td>0.039820</td>\n",
       "      <td>-0.127780</td>\n",
       "      <td>-0.067424</td>\n",
       "      <td>...</td>\n",
       "      <td>-0.008519</td>\n",
       "      <td>0.045795</td>\n",
       "      <td>0.208351</td>\n",
       "      <td>0.068569</td>\n",
       "      <td>0.102768</td>\n",
       "      <td>0.182556</td>\n",
       "      <td>0.030902</td>\n",
       "      <td>-0.049223</td>\n",
       "      <td>-0.074433</td>\n",
       "      <td>-0.069097</td>\n",
       "    </tr>\n",
       "    <tr>\n",
       "      <th>Smoker</th>\n",
       "      <td>0.045504</td>\n",
       "      <td>0.074264</td>\n",
       "      <td>0.074583</td>\n",
       "      <td>-0.003721</td>\n",
       "      <td>-0.009294</td>\n",
       "      <td>1.000000</td>\n",
       "      <td>0.054414</td>\n",
       "      <td>0.105169</td>\n",
       "      <td>-0.066869</td>\n",
       "      <td>-0.061731</td>\n",
       "      <td>...</td>\n",
       "      <td>-0.013963</td>\n",
       "      <td>0.037335</td>\n",
       "      <td>0.134894</td>\n",
       "      <td>0.077641</td>\n",
       "      <td>0.100447</td>\n",
       "      <td>0.108144</td>\n",
       "      <td>0.096650</td>\n",
       "      <td>0.107695</td>\n",
       "      <td>-0.135657</td>\n",
       "      <td>-0.095314</td>\n",
       "    </tr>\n",
       "    <tr>\n",
       "      <th>Stroke</th>\n",
       "      <td>0.099193</td>\n",
       "      <td>0.124558</td>\n",
       "      <td>0.089375</td>\n",
       "      <td>0.027955</td>\n",
       "      <td>0.011006</td>\n",
       "      <td>0.054414</td>\n",
       "      <td>1.000000</td>\n",
       "      <td>0.198814</td>\n",
       "      <td>-0.059306</td>\n",
       "      <td>-0.004486</td>\n",
       "      <td>...</td>\n",
       "      <td>0.013627</td>\n",
       "      <td>0.028613</td>\n",
       "      <td>0.169809</td>\n",
       "      <td>0.061996</td>\n",
       "      <td>0.140806</td>\n",
       "      <td>0.169339</td>\n",
       "      <td>0.003626</td>\n",
       "      <td>0.128209</td>\n",
       "      <td>-0.064178</td>\n",
       "      <td>-0.117108</td>\n",
       "    </tr>\n",
       "    <tr>\n",
       "      <th>HeartDiseaseorAttack</th>\n",
       "      <td>0.168213</td>\n",
       "      <td>0.201443</td>\n",
       "      <td>0.176446</td>\n",
       "      <td>0.050086</td>\n",
       "      <td>0.039820</td>\n",
       "      <td>0.105169</td>\n",
       "      <td>0.198814</td>\n",
       "      <td>1.000000</td>\n",
       "      <td>-0.073094</td>\n",
       "      <td>-0.006946</td>\n",
       "      <td>...</td>\n",
       "      <td>0.025987</td>\n",
       "      <td>0.021971</td>\n",
       "      <td>0.246328</td>\n",
       "      <td>0.052601</td>\n",
       "      <td>0.170335</td>\n",
       "      <td>0.202657</td>\n",
       "      <td>0.089828</td>\n",
       "      <td>0.223912</td>\n",
       "      <td>-0.082288</td>\n",
       "      <td>-0.122728</td>\n",
       "    </tr>\n",
       "    <tr>\n",
       "      <th>PhysActivity</th>\n",
       "      <td>-0.100404</td>\n",
       "      <td>-0.104382</td>\n",
       "      <td>-0.063443</td>\n",
       "      <td>-0.004555</td>\n",
       "      <td>-0.127780</td>\n",
       "      <td>-0.066869</td>\n",
       "      <td>-0.059306</td>\n",
       "      <td>-0.073094</td>\n",
       "      <td>1.000000</td>\n",
       "      <td>0.125023</td>\n",
       "      <td>...</td>\n",
       "      <td>0.023959</td>\n",
       "      <td>-0.046440</td>\n",
       "      <td>-0.237511</td>\n",
       "      <td>-0.105914</td>\n",
       "      <td>-0.199307</td>\n",
       "      <td>-0.235719</td>\n",
       "      <td>0.033516</td>\n",
       "      <td>-0.087881</td>\n",
       "      <td>0.170931</td>\n",
       "      <td>0.165869</td>\n",
       "    </tr>\n",
       "    <tr>\n",
       "      <th>Fruits</th>\n",
       "      <td>-0.024805</td>\n",
       "      <td>-0.019467</td>\n",
       "      <td>-0.026257</td>\n",
       "      <td>0.017860</td>\n",
       "      <td>-0.067424</td>\n",
       "      <td>-0.061731</td>\n",
       "      <td>-0.004486</td>\n",
       "      <td>-0.006946</td>\n",
       "      <td>0.125023</td>\n",
       "      <td>1.000000</td>\n",
       "      <td>...</td>\n",
       "      <td>0.022659</td>\n",
       "      <td>-0.032387</td>\n",
       "      <td>-0.071221</td>\n",
       "      <td>-0.052191</td>\n",
       "      <td>-0.024441</td>\n",
       "      <td>-0.029932</td>\n",
       "      <td>-0.088768</td>\n",
       "      <td>0.073515</td>\n",
       "      <td>0.084857</td>\n",
       "      <td>0.050907</td>\n",
       "    </tr>\n",
       "    <tr>\n",
       "      <th>Veggies</th>\n",
       "      <td>-0.041734</td>\n",
       "      <td>-0.042994</td>\n",
       "      <td>-0.027399</td>\n",
       "      <td>-0.000653</td>\n",
       "      <td>-0.044054</td>\n",
       "      <td>-0.013744</td>\n",
       "      <td>-0.033029</td>\n",
       "      <td>-0.027180</td>\n",
       "      <td>0.135240</td>\n",
       "      <td>0.242941</td>\n",
       "      <td>...</td>\n",
       "      <td>0.020530</td>\n",
       "      <td>-0.019876</td>\n",
       "      <td>-0.094115</td>\n",
       "      <td>-0.042215</td>\n",
       "      <td>-0.045130</td>\n",
       "      <td>-0.063189</td>\n",
       "      <td>-0.066113</td>\n",
       "      <td>-0.003856</td>\n",
       "      <td>0.131624</td>\n",
       "      <td>0.125068</td>\n",
       "    </tr>\n",
       "    <tr>\n",
       "      <th>HvyAlcoholConsump</th>\n",
       "      <td>-0.065950</td>\n",
       "      <td>-0.014178</td>\n",
       "      <td>-0.019057</td>\n",
       "      <td>-0.020975</td>\n",
       "      <td>-0.058420</td>\n",
       "      <td>0.096048</td>\n",
       "      <td>-0.021347</td>\n",
       "      <td>-0.035561</td>\n",
       "      <td>0.023378</td>\n",
       "      <td>-0.028221</td>\n",
       "      <td>...</td>\n",
       "      <td>-0.006202</td>\n",
       "      <td>-0.001272</td>\n",
       "      <td>-0.055783</td>\n",
       "      <td>0.016852</td>\n",
       "      <td>-0.036860</td>\n",
       "      <td>-0.047655</td>\n",
       "      <td>0.009435</td>\n",
       "      <td>-0.041018</td>\n",
       "      <td>0.039132</td>\n",
       "      <td>0.071863</td>\n",
       "    </tr>\n",
       "    <tr>\n",
       "      <th>AnyHealthcare</th>\n",
       "      <td>0.025331</td>\n",
       "      <td>0.052044</td>\n",
       "      <td>0.052363</td>\n",
       "      <td>0.115498</td>\n",
       "      <td>-0.008519</td>\n",
       "      <td>-0.013963</td>\n",
       "      <td>0.013627</td>\n",
       "      <td>0.025987</td>\n",
       "      <td>0.023959</td>\n",
       "      <td>0.022659</td>\n",
       "      <td>...</td>\n",
       "      <td>1.000000</td>\n",
       "      <td>-0.227469</td>\n",
       "      <td>-0.023286</td>\n",
       "      <td>-0.043582</td>\n",
       "      <td>0.002924</td>\n",
       "      <td>0.017714</td>\n",
       "      <td>-0.021221</td>\n",
       "      <td>0.147465</td>\n",
       "      <td>0.111367</td>\n",
       "      <td>0.146144</td>\n",
       "    </tr>\n",
       "    <tr>\n",
       "      <th>NoDocbcCost</th>\n",
       "      <td>0.020048</td>\n",
       "      <td>0.002292</td>\n",
       "      <td>0.003020</td>\n",
       "      <td>-0.054128</td>\n",
       "      <td>0.045795</td>\n",
       "      <td>0.037335</td>\n",
       "      <td>0.028613</td>\n",
       "      <td>0.021971</td>\n",
       "      <td>-0.046440</td>\n",
       "      <td>-0.032387</td>\n",
       "      <td>...</td>\n",
       "      <td>-0.227469</td>\n",
       "      <td>1.000000</td>\n",
       "      <td>0.149690</td>\n",
       "      <td>0.181769</td>\n",
       "      <td>0.136421</td>\n",
       "      <td>0.106225</td>\n",
       "      <td>-0.046507</td>\n",
       "      <td>-0.130115</td>\n",
       "      <td>-0.083260</td>\n",
       "      <td>-0.187577</td>\n",
       "    </tr>\n",
       "    <tr>\n",
       "      <th>GenHlth</th>\n",
       "      <td>0.276940</td>\n",
       "      <td>0.272784</td>\n",
       "      <td>0.188139</td>\n",
       "      <td>0.062939</td>\n",
       "      <td>0.208351</td>\n",
       "      <td>0.134894</td>\n",
       "      <td>0.169809</td>\n",
       "      <td>0.246328</td>\n",
       "      <td>-0.237511</td>\n",
       "      <td>-0.071221</td>\n",
       "      <td>...</td>\n",
       "      <td>-0.023286</td>\n",
       "      <td>0.149690</td>\n",
       "      <td>1.000000</td>\n",
       "      <td>0.283822</td>\n",
       "      <td>0.516476</td>\n",
       "      <td>0.446696</td>\n",
       "      <td>-0.010519</td>\n",
       "      <td>0.145769</td>\n",
       "      <td>-0.244752</td>\n",
       "      <td>-0.331782</td>\n",
       "    </tr>\n",
       "    <tr>\n",
       "      <th>MentHlth</th>\n",
       "      <td>0.054153</td>\n",
       "      <td>0.037482</td>\n",
       "      <td>0.050346</td>\n",
       "      <td>-0.001430</td>\n",
       "      <td>0.068569</td>\n",
       "      <td>0.077641</td>\n",
       "      <td>0.061996</td>\n",
       "      <td>0.052601</td>\n",
       "      <td>-0.105914</td>\n",
       "      <td>-0.052191</td>\n",
       "      <td>...</td>\n",
       "      <td>-0.043582</td>\n",
       "      <td>0.181769</td>\n",
       "      <td>0.283822</td>\n",
       "      <td>1.000000</td>\n",
       "      <td>0.340191</td>\n",
       "      <td>0.218733</td>\n",
       "      <td>-0.083836</td>\n",
       "      <td>-0.103355</td>\n",
       "      <td>-0.076122</td>\n",
       "      <td>-0.185689</td>\n",
       "    </tr>\n",
       "    <tr>\n",
       "      <th>PhysHlth</th>\n",
       "      <td>0.156211</td>\n",
       "      <td>0.144656</td>\n",
       "      <td>0.111008</td>\n",
       "      <td>0.040758</td>\n",
       "      <td>0.102768</td>\n",
       "      <td>0.100447</td>\n",
       "      <td>0.140806</td>\n",
       "      <td>0.170335</td>\n",
       "      <td>-0.199307</td>\n",
       "      <td>-0.024441</td>\n",
       "      <td>...</td>\n",
       "      <td>0.002924</td>\n",
       "      <td>0.136421</td>\n",
       "      <td>0.516476</td>\n",
       "      <td>0.340191</td>\n",
       "      <td>1.000000</td>\n",
       "      <td>0.466852</td>\n",
       "      <td>-0.044433</td>\n",
       "      <td>0.095483</td>\n",
       "      <td>-0.127687</td>\n",
       "      <td>-0.240929</td>\n",
       "    </tr>\n",
       "    <tr>\n",
       "      <th>DiffWalk</th>\n",
       "      <td>0.205302</td>\n",
       "      <td>0.211759</td>\n",
       "      <td>0.136045</td>\n",
       "      <td>0.049107</td>\n",
       "      <td>0.182556</td>\n",
       "      <td>0.108144</td>\n",
       "      <td>0.169339</td>\n",
       "      <td>0.202657</td>\n",
       "      <td>-0.235719</td>\n",
       "      <td>-0.029932</td>\n",
       "      <td>...</td>\n",
       "      <td>0.017714</td>\n",
       "      <td>0.106225</td>\n",
       "      <td>0.446696</td>\n",
       "      <td>0.218733</td>\n",
       "      <td>0.466852</td>\n",
       "      <td>1.000000</td>\n",
       "      <td>-0.073405</td>\n",
       "      <td>0.205754</td>\n",
       "      <td>-0.169350</td>\n",
       "      <td>-0.299064</td>\n",
       "    </tr>\n",
       "    <tr>\n",
       "      <th>Sex</th>\n",
       "      <td>0.032724</td>\n",
       "      <td>0.047119</td>\n",
       "      <td>0.022859</td>\n",
       "      <td>-0.024332</td>\n",
       "      <td>0.030902</td>\n",
       "      <td>0.096650</td>\n",
       "      <td>0.003626</td>\n",
       "      <td>0.089828</td>\n",
       "      <td>0.033516</td>\n",
       "      <td>-0.088768</td>\n",
       "      <td>...</td>\n",
       "      <td>-0.021221</td>\n",
       "      <td>-0.046507</td>\n",
       "      <td>-0.010519</td>\n",
       "      <td>-0.083836</td>\n",
       "      <td>-0.044433</td>\n",
       "      <td>-0.073405</td>\n",
       "      <td>1.000000</td>\n",
       "      <td>-0.031862</td>\n",
       "      <td>0.015956</td>\n",
       "      <td>0.130997</td>\n",
       "    </tr>\n",
       "    <tr>\n",
       "      <th>Age</th>\n",
       "      <td>0.177263</td>\n",
       "      <td>0.339802</td>\n",
       "      <td>0.263841</td>\n",
       "      <td>0.095942</td>\n",
       "      <td>-0.049223</td>\n",
       "      <td>0.107695</td>\n",
       "      <td>0.128209</td>\n",
       "      <td>0.223912</td>\n",
       "      <td>-0.087881</td>\n",
       "      <td>0.073515</td>\n",
       "      <td>...</td>\n",
       "      <td>0.147465</td>\n",
       "      <td>-0.130115</td>\n",
       "      <td>0.145769</td>\n",
       "      <td>-0.103355</td>\n",
       "      <td>0.095483</td>\n",
       "      <td>0.205754</td>\n",
       "      <td>-0.031862</td>\n",
       "      <td>1.000000</td>\n",
       "      <td>-0.092747</td>\n",
       "      <td>-0.116361</td>\n",
       "    </tr>\n",
       "    <tr>\n",
       "      <th>Education</th>\n",
       "      <td>-0.102686</td>\n",
       "      <td>-0.112887</td>\n",
       "      <td>-0.050045</td>\n",
       "      <td>-0.009935</td>\n",
       "      <td>-0.074433</td>\n",
       "      <td>-0.135657</td>\n",
       "      <td>-0.064178</td>\n",
       "      <td>-0.082288</td>\n",
       "      <td>0.170931</td>\n",
       "      <td>0.084857</td>\n",
       "      <td>...</td>\n",
       "      <td>0.111367</td>\n",
       "      <td>-0.083260</td>\n",
       "      <td>-0.244752</td>\n",
       "      <td>-0.076122</td>\n",
       "      <td>-0.127687</td>\n",
       "      <td>-0.169350</td>\n",
       "      <td>0.015956</td>\n",
       "      <td>-0.092747</td>\n",
       "      <td>1.000000</td>\n",
       "      <td>0.419045</td>\n",
       "    </tr>\n",
       "    <tr>\n",
       "      <th>Income</th>\n",
       "      <td>-0.140659</td>\n",
       "      <td>-0.140030</td>\n",
       "      <td>-0.062089</td>\n",
       "      <td>0.001989</td>\n",
       "      <td>-0.069097</td>\n",
       "      <td>-0.095314</td>\n",
       "      <td>-0.117108</td>\n",
       "      <td>-0.122728</td>\n",
       "      <td>0.165869</td>\n",
       "      <td>0.050907</td>\n",
       "      <td>...</td>\n",
       "      <td>0.146144</td>\n",
       "      <td>-0.187577</td>\n",
       "      <td>-0.331782</td>\n",
       "      <td>-0.185689</td>\n",
       "      <td>-0.240929</td>\n",
       "      <td>-0.299064</td>\n",
       "      <td>0.130997</td>\n",
       "      <td>-0.116361</td>\n",
       "      <td>0.419045</td>\n",
       "      <td>1.000000</td>\n",
       "    </tr>\n",
       "  </tbody>\n",
       "</table>\n",
       "<p>22 rows × 22 columns</p>\n",
       "</div>"
      ],
      "text/plain": [
       "                      Diabetes_binary    HighBP  HighChol  CholCheck  \\\n",
       "Diabetes_binary              1.000000  0.254318  0.194944   0.072523   \n",
       "HighBP                       0.254318  1.000000  0.283963   0.111259   \n",
       "HighChol                     0.194944  0.283963  1.000000   0.094772   \n",
       "CholCheck                    0.072523  0.111259  0.094772   1.000000   \n",
       "BMI                          0.205086  0.194218  0.089734   0.042487   \n",
       "Smoker                       0.045504  0.074264  0.074583  -0.003721   \n",
       "Stroke                       0.099193  0.124558  0.089375   0.027955   \n",
       "HeartDiseaseorAttack         0.168213  0.201443  0.176446   0.050086   \n",
       "PhysActivity                -0.100404 -0.104382 -0.063443  -0.004555   \n",
       "Fruits                      -0.024805 -0.019467 -0.026257   0.017860   \n",
       "Veggies                     -0.041734 -0.042994 -0.027399  -0.000653   \n",
       "HvyAlcoholConsump           -0.065950 -0.014178 -0.019057  -0.020975   \n",
       "AnyHealthcare                0.025331  0.052044  0.052363   0.115498   \n",
       "NoDocbcCost                  0.020048  0.002292  0.003020  -0.054128   \n",
       "GenHlth                      0.276940  0.272784  0.188139   0.062939   \n",
       "MentHlth                     0.054153  0.037482  0.050346  -0.001430   \n",
       "PhysHlth                     0.156211  0.144656  0.111008   0.040758   \n",
       "DiffWalk                     0.205302  0.211759  0.136045   0.049107   \n",
       "Sex                          0.032724  0.047119  0.022859  -0.024332   \n",
       "Age                          0.177263  0.339802  0.263841   0.095942   \n",
       "Education                   -0.102686 -0.112887 -0.050045  -0.009935   \n",
       "Income                      -0.140659 -0.140030 -0.062089   0.001989   \n",
       "\n",
       "                           BMI    Smoker    Stroke  HeartDiseaseorAttack  \\\n",
       "Diabetes_binary       0.205086  0.045504  0.099193              0.168213   \n",
       "HighBP                0.194218  0.074264  0.124558              0.201443   \n",
       "HighChol              0.089734  0.074583  0.089375              0.176446   \n",
       "CholCheck             0.042487 -0.003721  0.027955              0.050086   \n",
       "BMI                   1.000000 -0.009294  0.011006              0.039820   \n",
       "Smoker               -0.009294  1.000000  0.054414              0.105169   \n",
       "Stroke                0.011006  0.054414  1.000000              0.198814   \n",
       "HeartDiseaseorAttack  0.039820  0.105169  0.198814              1.000000   \n",
       "PhysActivity         -0.127780 -0.066869 -0.059306             -0.073094   \n",
       "Fruits               -0.067424 -0.061731 -0.004486             -0.006946   \n",
       "Veggies              -0.044054 -0.013744 -0.033029             -0.027180   \n",
       "HvyAlcoholConsump    -0.058420  0.096048 -0.021347             -0.035561   \n",
       "AnyHealthcare        -0.008519 -0.013963  0.013627              0.025987   \n",
       "NoDocbcCost           0.045795  0.037335  0.028613              0.021971   \n",
       "GenHlth               0.208351  0.134894  0.169809              0.246328   \n",
       "MentHlth              0.068569  0.077641  0.061996              0.052601   \n",
       "PhysHlth              0.102768  0.100447  0.140806              0.170335   \n",
       "DiffWalk              0.182556  0.108144  0.169339              0.202657   \n",
       "Sex                   0.030902  0.096650  0.003626              0.089828   \n",
       "Age                  -0.049223  0.107695  0.128209              0.223912   \n",
       "Education            -0.074433 -0.135657 -0.064178             -0.082288   \n",
       "Income               -0.069097 -0.095314 -0.117108             -0.122728   \n",
       "\n",
       "                      PhysActivity    Fruits  ...  AnyHealthcare  NoDocbcCost  \\\n",
       "Diabetes_binary          -0.100404 -0.024805  ...       0.025331     0.020048   \n",
       "HighBP                   -0.104382 -0.019467  ...       0.052044     0.002292   \n",
       "HighChol                 -0.063443 -0.026257  ...       0.052363     0.003020   \n",
       "CholCheck                -0.004555  0.017860  ...       0.115498    -0.054128   \n",
       "BMI                      -0.127780 -0.067424  ...      -0.008519     0.045795   \n",
       "Smoker                   -0.066869 -0.061731  ...      -0.013963     0.037335   \n",
       "Stroke                   -0.059306 -0.004486  ...       0.013627     0.028613   \n",
       "HeartDiseaseorAttack     -0.073094 -0.006946  ...       0.025987     0.021971   \n",
       "PhysActivity              1.000000  0.125023  ...       0.023959    -0.046440   \n",
       "Fruits                    0.125023  1.000000  ...       0.022659    -0.032387   \n",
       "Veggies                   0.135240  0.242941  ...       0.020530    -0.019876   \n",
       "HvyAlcoholConsump         0.023378 -0.028221  ...      -0.006202    -0.001272   \n",
       "AnyHealthcare             0.023959  0.022659  ...       1.000000    -0.227469   \n",
       "NoDocbcCost              -0.046440 -0.032387  ...      -0.227469     1.000000   \n",
       "GenHlth                  -0.237511 -0.071221  ...      -0.023286     0.149690   \n",
       "MentHlth                 -0.105914 -0.052191  ...      -0.043582     0.181769   \n",
       "PhysHlth                 -0.199307 -0.024441  ...       0.002924     0.136421   \n",
       "DiffWalk                 -0.235719 -0.029932  ...       0.017714     0.106225   \n",
       "Sex                       0.033516 -0.088768  ...      -0.021221    -0.046507   \n",
       "Age                      -0.087881  0.073515  ...       0.147465    -0.130115   \n",
       "Education                 0.170931  0.084857  ...       0.111367    -0.083260   \n",
       "Income                    0.165869  0.050907  ...       0.146144    -0.187577   \n",
       "\n",
       "                       GenHlth  MentHlth  PhysHlth  DiffWalk       Sex  \\\n",
       "Diabetes_binary       0.276940  0.054153  0.156211  0.205302  0.032724   \n",
       "HighBP                0.272784  0.037482  0.144656  0.211759  0.047119   \n",
       "HighChol              0.188139  0.050346  0.111008  0.136045  0.022859   \n",
       "CholCheck             0.062939 -0.001430  0.040758  0.049107 -0.024332   \n",
       "BMI                   0.208351  0.068569  0.102768  0.182556  0.030902   \n",
       "Smoker                0.134894  0.077641  0.100447  0.108144  0.096650   \n",
       "Stroke                0.169809  0.061996  0.140806  0.169339  0.003626   \n",
       "HeartDiseaseorAttack  0.246328  0.052601  0.170335  0.202657  0.089828   \n",
       "PhysActivity         -0.237511 -0.105914 -0.199307 -0.235719  0.033516   \n",
       "Fruits               -0.071221 -0.052191 -0.024441 -0.029932 -0.088768   \n",
       "Veggies              -0.094115 -0.042215 -0.045130 -0.063189 -0.066113   \n",
       "HvyAlcoholConsump    -0.055783  0.016852 -0.036860 -0.047655  0.009435   \n",
       "AnyHealthcare        -0.023286 -0.043582  0.002924  0.017714 -0.021221   \n",
       "NoDocbcCost           0.149690  0.181769  0.136421  0.106225 -0.046507   \n",
       "GenHlth               1.000000  0.283822  0.516476  0.446696 -0.010519   \n",
       "MentHlth              0.283822  1.000000  0.340191  0.218733 -0.083836   \n",
       "PhysHlth              0.516476  0.340191  1.000000  0.466852 -0.044433   \n",
       "DiffWalk              0.446696  0.218733  0.466852  1.000000 -0.073405   \n",
       "Sex                  -0.010519 -0.083836 -0.044433 -0.073405  1.000000   \n",
       "Age                   0.145769 -0.103355  0.095483  0.205754 -0.031862   \n",
       "Education            -0.244752 -0.076122 -0.127687 -0.169350  0.015956   \n",
       "Income               -0.331782 -0.185689 -0.240929 -0.299064  0.130997   \n",
       "\n",
       "                           Age  Education    Income  \n",
       "Diabetes_binary       0.177263  -0.102686 -0.140659  \n",
       "HighBP                0.339802  -0.112887 -0.140030  \n",
       "HighChol              0.263841  -0.050045 -0.062089  \n",
       "CholCheck             0.095942  -0.009935  0.001989  \n",
       "BMI                  -0.049223  -0.074433 -0.069097  \n",
       "Smoker                0.107695  -0.135657 -0.095314  \n",
       "Stroke                0.128209  -0.064178 -0.117108  \n",
       "HeartDiseaseorAttack  0.223912  -0.082288 -0.122728  \n",
       "PhysActivity         -0.087881   0.170931  0.165869  \n",
       "Fruits                0.073515   0.084857  0.050907  \n",
       "Veggies              -0.003856   0.131624  0.125068  \n",
       "HvyAlcoholConsump    -0.041018   0.039132  0.071863  \n",
       "AnyHealthcare         0.147465   0.111367  0.146144  \n",
       "NoDocbcCost          -0.130115  -0.083260 -0.187577  \n",
       "GenHlth               0.145769  -0.244752 -0.331782  \n",
       "MentHlth             -0.103355  -0.076122 -0.185689  \n",
       "PhysHlth              0.095483  -0.127687 -0.240929  \n",
       "DiffWalk              0.205754  -0.169350 -0.299064  \n",
       "Sex                  -0.031862   0.015956  0.130997  \n",
       "Age                   1.000000  -0.092747 -0.116361  \n",
       "Education            -0.092747   1.000000  0.419045  \n",
       "Income               -0.116361   0.419045  1.000000  \n",
       "\n",
       "[22 rows x 22 columns]"
      ]
     },
     "execution_count": 8,
     "metadata": {},
     "output_type": "execute_result"
    }
   ],
   "source": [
    "corr = data.corr()\n",
    "corr"
   ]
  },
  {
   "cell_type": "code",
   "execution_count": 9,
   "metadata": {},
   "outputs": [
    {
     "data": {
      "image/png": "[encoded data removed]",
      "text/plain": [
       "<Figure size 1152x1008 with 2 Axes>"
      ]
     },
     "metadata": {
      "needs_background": "light"
     },
     "output_type": "display_data"
    }
   ],
   "source": [
    "fig,axs = plt.subplots(figsize=(16,14))\n",
    "ax = sns.heatmap(corr).set_title(\"Correlation Map\")\n",
    "plt.show()"
   ]
  },
  {
   "cell_type": "code",
   "execution_count": 10,
   "metadata": {},
   "outputs": [],
   "source": [
    "data = data.drop(['CholCheck','Smoker','Fruits','Veggies','HvyAlcoholConsump','AnyHealthcare','NoDocbcCost','MentHlth','Sex'],axis=1)"
   ]
  },
  {
   "cell_type": "code",
   "execution_count": 11,
   "metadata": {},
   "outputs": [
    {
     "name": "stdout",
     "output_type": "stream",
     "text": [
      "<class 'pandas.core.frame.DataFrame'>\n",
      "Int64Index: 229474 entries, 0 to 253679\n",
      "Data columns (total 13 columns):\n",
      " #   Column                Non-Null Count   Dtype  \n",
      "---  ------                --------------   -----  \n",
      " 0   Diabetes_binary       229474 non-null  float64\n",
      " 1   HighBP                229474 non-null  float64\n",
      " 2   HighChol              229474 non-null  float64\n",
      " 3   BMI                   229474 non-null  float64\n",
      " 4   Stroke                229474 non-null  float64\n",
      " 5   HeartDiseaseorAttack  229474 non-null  float64\n",
      " 6   PhysActivity          229474 non-null  float64\n",
      " 7   GenHlth               229474 non-null  float64\n",
      " 8   PhysHlth              229474 non-null  float64\n",
      " 9   DiffWalk              229474 non-null  float64\n",
      " 10  Age                   229474 non-null  float64\n",
      " 11  Education             229474 non-null  float64\n",
      " 12  Income                229474 non-null  float64\n",
      "dtypes: float64(13)\n",
      "memory usage: 24.5 MB\n"
     ]
    }
   ],
   "source": [
    "data.info()"
   ]
  },
  {
   "cell_type": "code",
   "execution_count": 12,
   "metadata": {},
   "outputs": [
    {
     "name": "stdout",
     "output_type": "stream",
     "text": [
      "<class 'pandas.core.frame.DataFrame'>\n",
      "Int64Index: 229474 entries, 0 to 253679\n",
      "Data columns (total 13 columns):\n",
      " #   Column                Non-Null Count   Dtype\n",
      "---  ------                --------------   -----\n",
      " 0   Diabetes_binary       229474 non-null  int32\n",
      " 1   HighBP                229474 non-null  int32\n",
      " 2   HighChol              229474 non-null  int32\n",
      " 3   BMI                   229474 non-null  int32\n",
      " 4   Stroke                229474 non-null  int32\n",
      " 5   HeartDiseaseorAttack  229474 non-null  int32\n",
      " 6   PhysActivity          229474 non-null  int32\n",
      " 7   GenHlth               229474 non-null  int32\n",
      " 8   PhysHlth              229474 non-null  int32\n",
      " 9   DiffWalk              229474 non-null  int32\n",
      " 10  Age                   229474 non-null  int32\n",
      " 11  Education             229474 non-null  int32\n",
      " 12  Income                229474 non-null  int32\n",
      "dtypes: int32(13)\n",
      "memory usage: 13.1 MB\n"
     ]
    }
   ],
   "source": [
    "data = data.astype('int')\n",
    "data.info()"
   ]
  },
  {
   "cell_type": "code",
   "execution_count": 13,
   "metadata": {},
   "outputs": [
    {
     "data": {
      "text/plain": [
       "0    194377\n",
       "1     35097\n",
       "Name: Diabetes_binary, dtype: int64"
      ]
     },
     "execution_count": 13,
     "metadata": {},
     "output_type": "execute_result"
    }
   ],
   "source": [
    "data['Diabetes_binary'].value_counts()"
   ]
  },
  {
   "cell_type": "code",
   "execution_count": 14,
   "metadata": {},
   "outputs": [],
   "source": [
    "X = data.drop(['Diabetes_binary'],axis=1)\n",
    "y = data['Diabetes_binary']"
   ]
  },
  {
   "cell_type": "code",
   "execution_count": 15,
   "metadata": {},
   "outputs": [],
   "source": [
    "from sklearn.model_selection import train_test_split\n",
    "X_train, X_test, y_train, y_test = train_test_split(X, y, test_size=0.2, random_state=42)"
   ]
  },
  {
   "cell_type": "code",
   "execution_count": 16,
   "metadata": {},
   "outputs": [
    {
     "name": "stdout",
     "output_type": "stream",
     "text": [
      "0    155564\n",
      "1     28015\n",
      "Name: Diabetes_binary, dtype: int64\n"
     ]
    },
    {
     "name": "stderr",
     "output_type": "stream",
     "text": [
      "D:\\Program Files\\Anaconda\\lib\\site-packages\\seaborn\\_decorators.py:36: FutureWarning: Pass the following variable as a keyword arg: x. From version 0.12, the only valid positional argument will be `data`, and passing other arguments without an explicit keyword will result in an error or misinterpretation.\n",
      "  warnings.warn(\n"
     ]
    },
    {
     "data": {
      "text/plain": [
       "<AxesSubplot:xlabel='Diabetes_binary', ylabel='count'>"
      ]
     },
     "execution_count": 16,
     "metadata": {},
     "output_type": "execute_result"
    },
    {
     "data": {
      "image/png": "[encoded data removed]",
      "text/plain": [
       "<Figure size 432x288 with 1 Axes>"
      ]
     },
     "metadata": {
      "needs_background": "light"
     },
     "output_type": "display_data"
    }
   ],
   "source": [
    "print(y_train.value_counts())\n",
    "sns.countplot(y_train)"
   ]
  },
  {
   "cell_type": "code",
   "execution_count": 17,
   "metadata": {},
   "outputs": [],
   "source": [
    "oversample = SMOTE(random_state=42)\n",
    "X_train, y_train = oversample.fit_resample(X_train, y_train)"
   ]
  },
  {
   "cell_type": "code",
   "execution_count": 18,
   "metadata": {},
   "outputs": [
    {
     "name": "stdout",
     "output_type": "stream",
     "text": [
      "1    155564\n",
      "0    155564\n",
      "Name: Diabetes_binary, dtype: int64\n"
     ]
    },
    {
     "name": "stderr",
     "output_type": "stream",
     "text": [
      "D:\\Program Files\\Anaconda\\lib\\site-packages\\seaborn\\_decorators.py:36: FutureWarning: Pass the following variable as a keyword arg: x. From version 0.12, the only valid positional argument will be `data`, and passing other arguments without an explicit keyword will result in an error or misinterpretation.\n",
      "  warnings.warn(\n"
     ]
    },
    {
     "data": {
      "text/plain": [
       "<AxesSubplot:xlabel='Diabetes_binary', ylabel='count'>"
      ]
     },
     "execution_count": 18,
     "metadata": {},
     "output_type": "execute_result"
    },
    {
     "data": {
      "image/png": "[encoded data removed]",
      "text/plain": [
       "<Figure size 432x288 with 1 Axes>"
      ]
     },
     "metadata": {
      "needs_background": "light"
     },
     "output_type": "display_data"
    }
   ],
   "source": [
    "print(y_train.value_counts())\n",
    "sns.countplot(y_train)"
   ]
  },
  {
   "cell_type": "code",
   "execution_count": 19,
   "metadata": {},
   "outputs": [],
   "source": [
    "from sklearn import model_selection\n",
    "from sklearn import metrics\n",
    "from sklearn.metrics import classification_report\n",
    "from sklearn.metrics import plot_confusion_matrix\n",
    "\n",
    "seed=123\n",
    "kfold = model_selection.KFold(n_splits=7, random_state=seed, shuffle=True)\n",
    "models = []\n",
    "names = []"
   ]
  },
  {
   "cell_type": "code",
   "execution_count": 20,
   "metadata": {},
   "outputs": [
    {
     "name": "stdout",
     "output_type": "stream",
     "text": [
      "{'classifier__C': 0.15}\n"
     ]
    }
   ],
   "source": [
    "pipeline1 = Pipeline([\n",
    "    ('scaler',StandardScaler()),\n",
    "    ('classifier',LogisticRegression(C=1,random_state=42))])\n",
    "\n",
    "param_grid1 = {'classifier__C': [0.01, 0.05, 0.1, 0.15, 0.2]}\n",
    "\n",
    "grid1 = GridSearchCV(pipeline1, param_grid1, cv=kfold, scoring='accuracy')\n",
    "grid1.fit(X_train, y_train)\n",
    "print(grid1.best_params_)\n",
    "names.append('LR')\n",
    "models.append(grid1.best_estimator_)"
   ]
  },
  {
   "cell_type": "code",
   "execution_count": 21,
   "metadata": {},
   "outputs": [
    {
     "name": "stdout",
     "output_type": "stream",
     "text": [
      "{'classifier__C': 0.001}\n"
     ]
    }
   ],
   "source": [
    "pipeline2 = Pipeline([\n",
    "    ('scaler',StandardScaler()),\n",
    "    ('classifier',LinearSVC())])\n",
    "\n",
    "param_grid2 = {'classifier__C': [0.0001,0.0005,0.001, 0.005, 0.01]}\n",
    "\n",
    "grid2 = GridSearchCV(pipeline2, param_grid2, cv=kfold, scoring='accuracy')\n",
    "grid2.fit(X_train, y_train)\n",
    "print(grid2.best_params_)\n",
    "names.append('LinearSVC')\n",
    "models.append(grid2.best_estimator_)"
   ]
  },
  {
   "cell_type": "code",
   "execution_count": 22,
   "metadata": {},
   "outputs": [
    {
     "name": "stdout",
     "output_type": "stream",
     "text": [
      "{'classifier__learning_rate': 0.5, 'classifier__n_estimators': 80}\n"
     ]
    }
   ],
   "source": [
    "pipeline3 = Pipeline([\n",
    "    ('scaler',StandardScaler()),\n",
    "    ('classifier', GradientBoostingClassifier(n_estimators=1, learning_rate=0.5, random_state=42))])\n",
    "\n",
    "param_grid3 = {'classifier__n_estimators': [20,50,80],\n",
    "              'classifier__learning_rate': [0.2,0.5,0.8]}\n",
    "\n",
    "grid3 = GridSearchCV(pipeline3, param_grid3, cv=kfold, scoring='accuracy')\n",
    "grid3.fit(X_train, y_train)\n",
    "print(grid3.best_params_)\n",
    "names.append('GradientBoosting')\n",
    "models.append(grid3.best_estimator_)"
   ]
  },
  {
   "cell_type": "code",
   "execution_count": 23,
   "metadata": {},
   "outputs": [
    {
     "name": "stdout",
     "output_type": "stream",
     "text": [
      "{'classifier__min_samples_leaf': 2, 'classifier__n_estimators': 300}\n"
     ]
    }
   ],
   "source": [
    "pipeline4 = Pipeline([\n",
    "    ('scaler',StandardScaler()),\n",
    "    ('classifier', RandomForestClassifier())])\n",
    "\n",
    "param_grid4 = {'classifier__n_estimators': [100, 200, 300],\n",
    "              'classifier__min_samples_leaf': [2, 6, 10]}\n",
    "\n",
    "grid4 = GridSearchCV(pipeline4, param_grid4, cv=kfold, scoring='accuracy')\n",
    "grid4.fit(X_train, y_train)\n",
    "print(grid4.best_params_)\n",
    "names.append('RandomForest')\n",
    "models.append(grid4.best_estimator_)"
   ]
  },
  {
   "cell_type": "code",
   "execution_count": 24,
   "metadata": {},
   "outputs": [
    {
     "name": "stdout",
     "output_type": "stream",
     "text": [
      "{'classifier__max_depth': 20, 'classifier__min_samples_leaf': 50}\n"
     ]
    }
   ],
   "source": [
    "pipeline5 = Pipeline([\n",
    "    ('scaler',StandardScaler()),\n",
    "    ('classifier', DecisionTreeClassifier(random_state=42))])\n",
    "\n",
    "param_grid5 = {'classifier__min_samples_leaf': [50, 100, 150],\n",
    "              'classifier__max_depth': [10, 15, 20]}\n",
    "\n",
    "grid5 = GridSearchCV(pipeline5, param_grid5, cv=kfold, scoring='accuracy')\n",
    "grid5.fit(X_train, y_train)\n",
    "print(grid5.best_params_)\n",
    "names.append('DecisionTree')\n",
    "models.append(grid5.best_estimator_)"
   ]
  },
  {
   "cell_type": "code",
   "execution_count": 25,
   "metadata": {},
   "outputs": [
    {
     "name": "stdout",
     "output_type": "stream",
     "text": [
      "{'classifier__learning_rate': 0.7, 'classifier__n_estimators': 70}\n"
     ]
    }
   ],
   "source": [
    "pipeline6 = Pipeline([\n",
    "    ('scaler',StandardScaler()),\n",
    "    ('classifier', AdaBoostClassifier(DecisionTreeClassifier(random_state=42)))])\n",
    "\n",
    "param_grid6 = {'classifier__n_estimators': [30,50,70],\n",
    "              'classifier__learning_rate': [0.3,0.5,0.7]}\n",
    "\n",
    "grid6 = GridSearchCV(pipeline6, param_grid6, cv=kfold, scoring='accuracy')\n",
    "grid6.fit(X_train, y_train)\n",
    "print(grid6.best_params_)\n",
    "names.append('AdaBoost')\n",
    "models.append(grid6.best_estimator_)"
   ]
  },
  {
   "cell_type": "code",
   "execution_count": 26,
   "metadata": {},
   "outputs": [
    {
     "name": "stdout",
     "output_type": "stream",
     "text": [
      "LR\n",
      "              precision    recall  f1-score   support\n",
      "\n",
      "           0       0.93      0.70      0.80     38813\n",
      "           1       0.31      0.73      0.43      7082\n",
      "\n",
      "    accuracy                           0.70     45895\n",
      "   macro avg       0.62      0.71      0.61     45895\n",
      "weighted avg       0.84      0.70      0.74     45895\n",
      "\n",
      "LinearSVC\n",
      "              precision    recall  f1-score   support\n",
      "\n",
      "           0       0.93      0.69      0.80     38813\n",
      "           1       0.30      0.73      0.43      7082\n",
      "\n",
      "    accuracy                           0.70     45895\n",
      "   macro avg       0.62      0.71      0.61     45895\n",
      "weighted avg       0.84      0.70      0.74     45895\n",
      "\n"
     ]
    },
    {
     "name": "stderr",
     "output_type": "stream",
     "text": [
      "D:\\Program Files\\Anaconda\\lib\\site-packages\\sklearn\\utils\\deprecation.py:87: FutureWarning: Function plot_confusion_matrix is deprecated; Function `plot_confusion_matrix` is deprecated in 1.0 and will be removed in 1.2. Use one of the class methods: ConfusionMatrixDisplay.from_predictions or ConfusionMatrixDisplay.from_estimator.\n",
      "  warnings.warn(msg, category=FutureWarning)\n",
      "D:\\Program Files\\Anaconda\\lib\\site-packages\\sklearn\\utils\\deprecation.py:87: FutureWarning: Function plot_confusion_matrix is deprecated; Function `plot_confusion_matrix` is deprecated in 1.0 and will be removed in 1.2. Use one of the class methods: ConfusionMatrixDisplay.from_predictions or ConfusionMatrixDisplay.from_estimator.\n",
      "  warnings.warn(msg, category=FutureWarning)\n"
     ]
    },
    {
     "name": "stdout",
     "output_type": "stream",
     "text": [
      "GradientBoosting\n",
      "              precision    recall  f1-score   support\n",
      "\n",
      "           0       0.93      0.69      0.79     38813\n",
      "           1       0.30      0.74      0.43      7082\n",
      "\n",
      "    accuracy                           0.70     45895\n",
      "   macro avg       0.62      0.71      0.61     45895\n",
      "weighted avg       0.84      0.70      0.74     45895\n",
      "\n"
     ]
    },
    {
     "name": "stderr",
     "output_type": "stream",
     "text": [
      "D:\\Program Files\\Anaconda\\lib\\site-packages\\sklearn\\utils\\deprecation.py:87: FutureWarning: Function plot_confusion_matrix is deprecated; Function `plot_confusion_matrix` is deprecated in 1.0 and will be removed in 1.2. Use one of the class methods: ConfusionMatrixDisplay.from_predictions or ConfusionMatrixDisplay.from_estimator.\n",
      "  warnings.warn(msg, category=FutureWarning)\n"
     ]
    },
    {
     "name": "stdout",
     "output_type": "stream",
     "text": [
      "RandomForest\n",
      "              precision    recall  f1-score   support\n",
      "\n",
      "           0       0.90      0.78      0.84     38813\n",
      "           1       0.31      0.54      0.40      7082\n",
      "\n",
      "    accuracy                           0.75     45895\n",
      "   macro avg       0.61      0.66      0.62     45895\n",
      "weighted avg       0.81      0.75      0.77     45895\n",
      "\n"
     ]
    },
    {
     "name": "stderr",
     "output_type": "stream",
     "text": [
      "D:\\Program Files\\Anaconda\\lib\\site-packages\\sklearn\\utils\\deprecation.py:87: FutureWarning: Function plot_confusion_matrix is deprecated; Function `plot_confusion_matrix` is deprecated in 1.0 and will be removed in 1.2. Use one of the class methods: ConfusionMatrixDisplay.from_predictions or ConfusionMatrixDisplay.from_estimator.\n",
      "  warnings.warn(msg, category=FutureWarning)\n"
     ]
    },
    {
     "name": "stdout",
     "output_type": "stream",
     "text": [
      "DecisionTree\n",
      "              precision    recall  f1-score   support\n",
      "\n",
      "           0       0.92      0.71      0.80     38813\n",
      "           1       0.30      0.67      0.41      7082\n",
      "\n",
      "    accuracy                           0.70     45895\n",
      "   macro avg       0.61      0.69      0.61     45895\n",
      "weighted avg       0.83      0.70      0.74     45895\n",
      "\n",
      "AdaBoost\n"
     ]
    },
    {
     "name": "stderr",
     "output_type": "stream",
     "text": [
      "D:\\Program Files\\Anaconda\\lib\\site-packages\\sklearn\\utils\\deprecation.py:87: FutureWarning: Function plot_confusion_matrix is deprecated; Function `plot_confusion_matrix` is deprecated in 1.0 and will be removed in 1.2. Use one of the class methods: ConfusionMatrixDisplay.from_predictions or ConfusionMatrixDisplay.from_estimator.\n",
      "  warnings.warn(msg, category=FutureWarning)\n"
     ]
    },
    {
     "name": "stdout",
     "output_type": "stream",
     "text": [
      "              precision    recall  f1-score   support\n",
      "\n",
      "           0       0.88      0.79      0.84     38813\n",
      "           1       0.28      0.43      0.34      7082\n",
      "\n",
      "    accuracy                           0.74     45895\n",
      "   macro avg       0.58      0.61      0.59     45895\n",
      "weighted avg       0.79      0.74      0.76     45895\n",
      "\n"
     ]
    },
    {
     "name": "stderr",
     "output_type": "stream",
     "text": [
      "D:\\Program Files\\Anaconda\\lib\\site-packages\\sklearn\\utils\\deprecation.py:87: FutureWarning: Function plot_confusion_matrix is deprecated; Function `plot_confusion_matrix` is deprecated in 1.0 and will be removed in 1.2. Use one of the class methods: ConfusionMatrixDisplay.from_predictions or ConfusionMatrixDisplay.from_estimator.\n",
      "  warnings.warn(msg, category=FutureWarning)\n"
     ]
    },
    {
     "data": {
      "image/png": "[encoded data removed]",
      "text/plain": [
       "<Figure size 432x288 with 2 Axes>"
      ]
     },
     "metadata": {
      "needs_background": "light"
     },
     "output_type": "display_data"
    },
    {
     "data": {
      "image/png": "[encoded data removed]",
      "text/plain": [
       "<Figure size 432x288 with 2 Axes>"
      ]
     },
     "metadata": {
      "needs_background": "light"
     },
     "output_type": "display_data"
    },
    {
     "data": {
      "image/png": "[encoded data removed]",
      "text/plain": [
       "<Figure size 432x288 with 2 Axes>"
      ]
     },
     "metadata": {
      "needs_background": "light"
     },
     "output_type": "display_data"
    },
    {
     "data": {
      "image/png": "[encoded data removed]",
      "text/plain": [
       "<Figure size 432x288 with 2 Axes>"
      ]
     },
     "metadata": {
      "needs_background": "light"
     },
     "output_type": "display_data"
    },
    {
     "data": {
      "image/png": "[encoded data removed]",
      "text/plain": [
       "<Figure size 432x288 with 2 Axes>"
      ]
     },
     "metadata": {
      "needs_background": "light"
     },
     "output_type": "display_data"
    },
    {
     "data": {
      "image/png": "[encoded data removed]",
      "text/plain": [
       "<Figure size 432x288 with 2 Axes>"
      ]
     },
     "metadata": {
      "needs_background": "light"
     },
     "output_type": "display_data"
    }
   ],
   "source": [
    "accuracy_score = []\n",
    "i=0\n",
    "for model in models:\n",
    "  print(names[i])\n",
    "  i+=1\n",
    "  y_pred = model.predict(X_test)\n",
    "  accuracy_score.append(metrics.accuracy_score(y_test, y_pred))\n",
    "  print(classification_report(y_test,y_pred))\n",
    "  plot_confusion_matrix(model,X_test,y_test)"
   ]
  },
  {
   "cell_type": "code",
   "execution_count": 27,
   "metadata": {},
   "outputs": [
    {
     "data": {
      "image/png": "[encoded data removed]",
      "text/plain": [
       "<Figure size 576x576 with 1 Axes>"
      ]
     },
     "metadata": {
      "needs_background": "light"
     },
     "output_type": "display_data"
    }
   ],
   "source": [
    "names = np.transpose(names)\n",
    "\n",
    "fig = plt.figure(figsize=(8,8))\n",
    "ax = fig.add_axes([0,0,1,1])\n",
    "plt.ylabel('accuracy_score')\n",
    "plt.xlabel('models')\n",
    "ax.bar(names,accuracy_score,color=['blue','red','green','purple','black','orange'])\n",
    "plt.show()"
   ]
  },
  {
   "cell_type": "code",
   "execution_count": 28,
   "metadata": {},
   "outputs": [],
   "source": [
    "from keras.models import Sequential\n",
    "from keras.layers import Dense\n",
    "from keras.callbacks import History\n",
    "from keras.callbacks import TensorBoard\n",
    "from keras.callbacks import LearningRateScheduler\n",
    "from keras.callbacks import EarlyStopping"
   ]
  },
  {
   "cell_type": "code",
   "execution_count": 29,
   "metadata": {},
   "outputs": [],
   "source": [
    "scaler = StandardScaler()\n",
    "\n",
    "X_train = scaler.fit_transform(X_train)\n",
    "\n",
    "X_test = scaler.transform(X_test)"
   ]
  },
  {
   "cell_type": "code",
   "execution_count": 40,
   "metadata": {},
   "outputs": [
    {
     "name": "stdout",
     "output_type": "stream",
     "text": [
      "Model: \"sequential_4\"\n",
      "_________________________________________________________________\n",
      " Layer (type)                Output Shape              Param #   \n",
      "=================================================================\n",
      " dense_27 (Dense)            (None, 250)               3250      \n",
      "                                                                 \n",
      " dense_28 (Dense)            (None, 100)               25100     \n",
      "                                                                 \n",
      " dense_29 (Dense)            (None, 50)                5050      \n",
      "                                                                 \n",
      " dense_30 (Dense)            (None, 10)                510       \n",
      "                                                                 \n",
      " dense_31 (Dense)            (None, 1)                 11        \n",
      "                                                                 \n",
      "=================================================================\n",
      "Total params: 33,921\n",
      "Trainable params: 33,921\n",
      "Non-trainable params: 0\n",
      "_________________________________________________________________\n"
     ]
    }
   ],
   "source": [
    "history_lr_1 = History()\n",
    "model1 = Sequential()\n",
    "model1.add(Dense(250,activation=\"sigmoid\", input_shape=(X_train.shape[1],)))\n",
    "model1.add(Dense(100,activation=\"sigmoid\"))\n",
    "model1.add(Dense(50,activation=\"sigmoid\"))\n",
    "model1.add(Dense(10,activation=\"sigmoid\"))\n",
    "model1.add(Dense(1,activation=\"sigmoid\"))\n",
    "model1.summary()"
   ]
  },
  {
   "cell_type": "code",
   "execution_count": 41,
   "metadata": {},
   "outputs": [
    {
     "name": "stdout",
     "output_type": "stream",
     "text": [
      "Epoch 1/100\n",
      "2431/2431 [==============================] - 6s 2ms/step - loss: 0.5653 - accuracy: 0.7058 - val_loss: 0.5803 - val_accuracy: 0.6674\n",
      "Epoch 2/100\n",
      "2431/2431 [==============================] - 5s 2ms/step - loss: 0.5555 - accuracy: 0.7133 - val_loss: 0.5750 - val_accuracy: 0.6810\n",
      "Epoch 3/100\n",
      "2431/2431 [==============================] - 6s 2ms/step - loss: 0.5512 - accuracy: 0.7164 - val_loss: 0.6091 - val_accuracy: 0.6471\n",
      "Epoch 4/100\n",
      "2431/2431 [==============================] - 6s 2ms/step - loss: 0.5495 - accuracy: 0.7179 - val_loss: 0.5404 - val_accuracy: 0.6967\n",
      "Epoch 5/100\n",
      "2431/2431 [==============================] - 6s 2ms/step - loss: 0.5485 - accuracy: 0.7180 - val_loss: 0.5436 - val_accuracy: 0.7030\n",
      "Epoch 6/100\n",
      "2431/2431 [==============================] - 6s 2ms/step - loss: 0.5476 - accuracy: 0.7182 - val_loss: 0.5687 - val_accuracy: 0.6768\n",
      "Epoch 7/100\n",
      "2431/2431 [==============================] - 5s 2ms/step - loss: 0.5468 - accuracy: 0.7190 - val_loss: 0.5774 - val_accuracy: 0.6783\n",
      "Epoch 8/100\n",
      "2431/2431 [==============================] - 5s 2ms/step - loss: 0.5457 - accuracy: 0.7187 - val_loss: 0.5445 - val_accuracy: 0.7034\n",
      "Epoch 9/100\n",
      "2431/2431 [==============================] - 5s 2ms/step - loss: 0.5449 - accuracy: 0.7199 - val_loss: 0.5568 - val_accuracy: 0.6976\n",
      "Epoch 10/100\n",
      "2431/2431 [==============================] - 5s 2ms/step - loss: 0.5441 - accuracy: 0.7209 - val_loss: 0.5562 - val_accuracy: 0.6776\n",
      "Epoch 11/100\n",
      "2431/2431 [==============================] - 5s 2ms/step - loss: 0.5435 - accuracy: 0.7211 - val_loss: 0.5175 - val_accuracy: 0.7241\n",
      "Epoch 12/100\n",
      "2431/2431 [==============================] - 5s 2ms/step - loss: 0.5426 - accuracy: 0.7216 - val_loss: 0.5599 - val_accuracy: 0.6952\n",
      "Epoch 13/100\n",
      "2431/2431 [==============================] - 5s 2ms/step - loss: 0.5422 - accuracy: 0.7222 - val_loss: 0.5598 - val_accuracy: 0.6867\n",
      "Epoch 14/100\n",
      "2431/2431 [==============================] - 5s 2ms/step - loss: 0.5415 - accuracy: 0.7219 - val_loss: 0.5495 - val_accuracy: 0.7025\n",
      "Epoch 15/100\n",
      "2431/2431 [==============================] - 5s 2ms/step - loss: 0.5411 - accuracy: 0.7227 - val_loss: 0.5493 - val_accuracy: 0.7004\n",
      "Epoch 16/100\n",
      "2431/2431 [==============================] - 5s 2ms/step - loss: 0.5404 - accuracy: 0.7229 - val_loss: 0.5217 - val_accuracy: 0.7130\n",
      "Epoch 17/100\n",
      "2431/2431 [==============================] - 5s 2ms/step - loss: 0.5398 - accuracy: 0.7236 - val_loss: 0.5447 - val_accuracy: 0.7001\n",
      "Epoch 18/100\n",
      "2431/2431 [==============================] - 5s 2ms/step - loss: 0.5392 - accuracy: 0.7238 - val_loss: 0.5556 - val_accuracy: 0.6906\n",
      "Epoch 19/100\n",
      "2431/2431 [==============================] - 5s 2ms/step - loss: 0.5386 - accuracy: 0.7241 - val_loss: 0.5210 - val_accuracy: 0.7206\n",
      "Epoch 20/100\n",
      "2431/2431 [==============================] - 5s 2ms/step - loss: 0.5381 - accuracy: 0.7248 - val_loss: 0.5649 - val_accuracy: 0.6793\n",
      "Epoch 21/100\n",
      "2431/2431 [==============================] - 5s 2ms/step - loss: 0.5376 - accuracy: 0.7250 - val_loss: 0.5115 - val_accuracy: 0.7197\n",
      "Epoch 21: early stopping\n"
     ]
    },
    {
     "data": {
      "text/plain": [
       "<keras.callbacks.History at 0x1c5b9204c70>"
      ]
     },
     "execution_count": 41,
     "metadata": {},
     "output_type": "execute_result"
    }
   ],
   "source": [
    "model1.compile(loss=\"binary_crossentropy\",optimizer=\"Adam\", metrics=[\"accuracy\"])\n",
    "early_stopping = EarlyStopping(monitor='val_accuracy', patience=10, mode='max', verbose=1)\n",
    "model1.fit(X_train, y_train, validation_data= (X_test, y_test), batch_size=128, epochs=100,callbacks=[history_lr_1,early_stopping])"
   ]
  },
  {
   "cell_type": "code",
   "execution_count": 42,
   "metadata": {},
   "outputs": [
    {
     "data": {
      "image/png": "[encoded data removed]",
      "text/plain": [
       "<Figure size 576x360 with 1 Axes>"
      ]
     },
     "metadata": {
      "needs_background": "light"
     },
     "output_type": "display_data"
    }
   ],
   "source": [
    "pd.DataFrame(history_lr_1.history).plot(figsize=(8, 5))\n",
    "plt.grid(True)\n",
    "plt.gca().set_ylim(0, 1)\n",
    "plt.show()"
   ]
  },
  {
   "cell_type": "code",
   "execution_count": 43,
   "metadata": {},
   "outputs": [
    {
     "name": "stdout",
     "output_type": "stream",
     "text": [
      "Model: \"sequential_5\"\n",
      "_________________________________________________________________\n",
      " Layer (type)                Output Shape              Param #   \n",
      "=================================================================\n",
      " dense_32 (Dense)            (None, 250)               3250      \n",
      "                                                                 \n",
      " dense_33 (Dense)            (None, 100)               25100     \n",
      "                                                                 \n",
      " dense_34 (Dense)            (None, 50)                5050      \n",
      "                                                                 \n",
      " dense_35 (Dense)            (None, 10)                510       \n",
      "                                                                 \n",
      " dense_36 (Dense)            (None, 1)                 11        \n",
      "                                                                 \n",
      "=================================================================\n",
      "Total params: 33,921\n",
      "Trainable params: 33,921\n",
      "Non-trainable params: 0\n",
      "_________________________________________________________________\n"
     ]
    }
   ],
   "source": [
    "history_lr_2 = History()\n",
    "model2 = Sequential()\n",
    "model2.add(Dense(250,activation=\"relu\",input_shape=(X_train.shape[1],)))\n",
    "model2.add(Dense(100,activation=\"relu\"))\n",
    "model2.add(Dense(50,activation=\"relu\"))\n",
    "model2.add(Dense(10,activation=\"relu\"))\n",
    "model2.add(Dense(1,activation=\"sigmoid\"))\n",
    "model2.summary()"
   ]
  },
  {
   "cell_type": "code",
   "execution_count": 44,
   "metadata": {},
   "outputs": [
    {
     "name": "stdout",
     "output_type": "stream",
     "text": [
      "Epoch 1/100\n",
      "2431/2431 [==============================] - 6s 2ms/step - loss: 0.5482 - accuracy: 0.7184 - val_loss: 0.5307 - val_accuracy: 0.7079\n",
      "Epoch 2/100\n",
      "2431/2431 [==============================] - 5s 2ms/step - loss: 0.5429 - accuracy: 0.7233 - val_loss: 0.5628 - val_accuracy: 0.6854\n",
      "Epoch 3/100\n",
      "2431/2431 [==============================] - 5s 2ms/step - loss: 0.5404 - accuracy: 0.7251 - val_loss: 0.5253 - val_accuracy: 0.7093\n",
      "Epoch 4/100\n",
      "2431/2431 [==============================] - 5s 2ms/step - loss: 0.5380 - accuracy: 0.7261 - val_loss: 0.5530 - val_accuracy: 0.6934\n",
      "Epoch 5/100\n",
      "2431/2431 [==============================] - 5s 2ms/step - loss: 0.5359 - accuracy: 0.7276 - val_loss: 0.5698 - val_accuracy: 0.6812\n",
      "Epoch 6/100\n",
      "2431/2431 [==============================] - 5s 2ms/step - loss: 0.5334 - accuracy: 0.7301 - val_loss: 0.5627 - val_accuracy: 0.6832\n",
      "Epoch 7/100\n",
      "2431/2431 [==============================] - 5s 2ms/step - loss: 0.5312 - accuracy: 0.7323 - val_loss: 0.5586 - val_accuracy: 0.6861\n",
      "Epoch 8/100\n",
      "2431/2431 [==============================] - 5s 2ms/step - loss: 0.5287 - accuracy: 0.7336 - val_loss: 0.5398 - val_accuracy: 0.7082\n",
      "Epoch 9/100\n",
      "2431/2431 [==============================] - 5s 2ms/step - loss: 0.5261 - accuracy: 0.7359 - val_loss: 0.5506 - val_accuracy: 0.7048\n",
      "Epoch 10/100\n",
      "2431/2431 [==============================] - 5s 2ms/step - loss: 0.5234 - accuracy: 0.7384 - val_loss: 0.5513 - val_accuracy: 0.6915\n",
      "Epoch 11/100\n",
      "2431/2431 [==============================] - 5s 2ms/step - loss: 0.5203 - accuracy: 0.7405 - val_loss: 0.5429 - val_accuracy: 0.6972\n",
      "Epoch 12/100\n",
      "2431/2431 [==============================] - 5s 2ms/step - loss: 0.5178 - accuracy: 0.7421 - val_loss: 0.5437 - val_accuracy: 0.7036\n",
      "Epoch 13/100\n",
      "2431/2431 [==============================] - 5s 2ms/step - loss: 0.5151 - accuracy: 0.7442 - val_loss: 0.5395 - val_accuracy: 0.7053\n",
      "Epoch 13: early stopping\n"
     ]
    },
    {
     "data": {
      "text/plain": [
       "<keras.callbacks.History at 0x1c5bad23040>"
      ]
     },
     "execution_count": 44,
     "metadata": {},
     "output_type": "execute_result"
    }
   ],
   "source": [
    "model2.compile(loss=\"binary_crossentropy\",optimizer=\"Adam\", metrics=[\"accuracy\"])\n",
    "early_stopping = EarlyStopping(monitor='val_accuracy', patience=10, mode='max', verbose=1)\n",
    "model2.fit(X_train, y_train, validation_data= (X_test, y_test), batch_size=128,epochs=100, callbacks=[history_lr_2,early_stopping])"
   ]
  },
  {
   "cell_type": "code",
   "execution_count": 45,
   "metadata": {},
   "outputs": [
    {
     "data": {
      "image/png": "[encoded data removed]",
      "text/plain": [
       "<Figure size 576x360 with 1 Axes>"
      ]
     },
     "metadata": {
      "needs_background": "light"
     },
     "output_type": "display_data"
    }
   ],
   "source": [
    "pd.DataFrame(history_lr_2.history).plot(figsize=(8, 5))\n",
    "plt.grid(True)\n",
    "plt.gca().set_ylim(0, 1)\n",
    "plt.show()"
   ]
  },
  {
   "cell_type": "code",
   "execution_count": 46,
   "metadata": {},
   "outputs": [
    {
     "name": "stdout",
     "output_type": "stream",
     "text": [
      "Model: \"sequential_6\"\n",
      "_________________________________________________________________\n",
      " Layer (type)                Output Shape              Param #   \n",
      "=================================================================\n",
      " dense_37 (Dense)            (None, 2500)              32500     \n",
      "                                                                 \n",
      " dense_38 (Dense)            (None, 1500)              3751500   \n",
      "                                                                 \n",
      " dense_39 (Dense)            (None, 1000)              1501000   \n",
      "                                                                 \n",
      " dense_40 (Dense)            (None, 500)               500500    \n",
      "                                                                 \n",
      " dense_41 (Dense)            (None, 100)               50100     \n",
      "                                                                 \n",
      " dense_42 (Dense)            (None, 50)                5050      \n",
      "                                                                 \n",
      " dense_43 (Dense)            (None, 1)                 51        \n",
      "                                                                 \n",
      "=================================================================\n",
      "Total params: 5,840,701\n",
      "Trainable params: 5,840,701\n",
      "Non-trainable params: 0\n",
      "_________________________________________________________________\n"
     ]
    }
   ],
   "source": [
    "history_lr_3 = History()\n",
    "model3 = Sequential()\n",
    "model3.add(Dense(2500,activation=\"relu\",input_shape=(X_train.shape[1],)))\n",
    "model3.add(Dense(1500,activation=\"relu\"))\n",
    "model3.add(Dense(1000,activation=\"relu\"))\n",
    "model3.add(Dense(500,activation=\"relu\"))\n",
    "model3.add(Dense(100,activation=\"relu\"))\n",
    "model3.add(Dense(50,activation=\"relu\"))\n",
    "model3.add(Dense(1,activation=\"sigmoid\"))\n",
    "model3.summary()"
   ]
  },
  {
   "cell_type": "code",
   "execution_count": 47,
   "metadata": {},
   "outputs": [
    {
     "name": "stdout",
     "output_type": "stream",
     "text": [
      "Epoch 1/100\n",
      "1216/1216 [==============================] - 75s 61ms/step - loss: 0.5501 - accuracy: 0.7183 - val_loss: 0.5924 - val_accuracy: 0.6679\n",
      "Epoch 2/100\n",
      "1216/1216 [==============================] - 73s 60ms/step - loss: 0.5444 - accuracy: 0.7219 - val_loss: 0.5811 - val_accuracy: 0.6838\n",
      "Epoch 3/100\n",
      "1216/1216 [==============================] - 75s 62ms/step - loss: 0.5421 - accuracy: 0.7239 - val_loss: 0.5476 - val_accuracy: 0.6784\n",
      "Epoch 4/100\n",
      "1216/1216 [==============================] - 78s 64ms/step - loss: 0.5400 - accuracy: 0.7258 - val_loss: 0.5658 - val_accuracy: 0.6751\n",
      "Epoch 5/100\n",
      "1216/1216 [==============================] - 82s 68ms/step - loss: 0.5371 - accuracy: 0.7280 - val_loss: 0.5925 - val_accuracy: 0.6715\n",
      "Epoch 6/100\n",
      "1216/1216 [==============================] - 78s 64ms/step - loss: 0.5345 - accuracy: 0.7306 - val_loss: 0.5554 - val_accuracy: 0.6897\n",
      "Epoch 7/100\n",
      "1216/1216 [==============================] - 78s 64ms/step - loss: 0.5305 - accuracy: 0.7339 - val_loss: 0.5337 - val_accuracy: 0.7017\n",
      "Epoch 8/100\n",
      "1216/1216 [==============================] - 82s 68ms/step - loss: 0.5259 - accuracy: 0.7383 - val_loss: 0.5605 - val_accuracy: 0.6979\n",
      "Epoch 9/100\n",
      "1216/1216 [==============================] - 83s 68ms/step - loss: 0.5202 - accuracy: 0.7432 - val_loss: 0.5480 - val_accuracy: 0.7035\n",
      "Epoch 10/100\n",
      "1216/1216 [==============================] - 83s 68ms/step - loss: 0.5125 - accuracy: 0.7498 - val_loss: 0.5508 - val_accuracy: 0.6911\n",
      "Epoch 11/100\n",
      "1216/1216 [==============================] - 83s 68ms/step - loss: 0.5045 - accuracy: 0.7561 - val_loss: 0.5569 - val_accuracy: 0.7031\n",
      "Epoch 12/100\n",
      "1216/1216 [==============================] - 82s 68ms/step - loss: 0.4949 - accuracy: 0.7640 - val_loss: 0.5560 - val_accuracy: 0.7129\n",
      "Epoch 13/100\n",
      "1216/1216 [==============================] - 81s 67ms/step - loss: 0.4847 - accuracy: 0.7708 - val_loss: 0.5749 - val_accuracy: 0.7096\n",
      "Epoch 14/100\n",
      "1216/1216 [==============================] - 82s 67ms/step - loss: 0.4733 - accuracy: 0.7790 - val_loss: 0.5457 - val_accuracy: 0.7203\n",
      "Epoch 15/100\n",
      "1216/1216 [==============================] - 80s 66ms/step - loss: 0.4620 - accuracy: 0.7861 - val_loss: 0.5824 - val_accuracy: 0.7132\n",
      "Epoch 16/100\n",
      "1216/1216 [==============================] - 81s 67ms/step - loss: 0.4501 - accuracy: 0.7934 - val_loss: 0.5814 - val_accuracy: 0.7150\n",
      "Epoch 17/100\n",
      "1216/1216 [==============================] - 79s 65ms/step - loss: 0.4389 - accuracy: 0.7998 - val_loss: 0.5971 - val_accuracy: 0.7185\n",
      "Epoch 18/100\n",
      "1216/1216 [==============================] - 77s 64ms/step - loss: 0.4282 - accuracy: 0.8060 - val_loss: 0.6042 - val_accuracy: 0.7266\n",
      "Epoch 19/100\n",
      "1216/1216 [==============================] - 81s 67ms/step - loss: 0.4168 - accuracy: 0.8129 - val_loss: 0.6214 - val_accuracy: 0.7274\n",
      "Epoch 20/100\n",
      "1216/1216 [==============================] - 80s 66ms/step - loss: 0.4066 - accuracy: 0.8179 - val_loss: 0.6298 - val_accuracy: 0.7240\n",
      "Epoch 21/100\n",
      "1216/1216 [==============================] - 79s 65ms/step - loss: 0.3965 - accuracy: 0.8239 - val_loss: 0.6316 - val_accuracy: 0.7344\n",
      "Epoch 22/100\n",
      "1216/1216 [==============================] - 79s 65ms/step - loss: 0.3884 - accuracy: 0.8277 - val_loss: 0.6774 - val_accuracy: 0.7095\n",
      "Epoch 23/100\n",
      "1216/1216 [==============================] - 78s 64ms/step - loss: 0.3795 - accuracy: 0.8324 - val_loss: 0.6525 - val_accuracy: 0.7279\n",
      "Epoch 24/100\n",
      "1216/1216 [==============================] - 78s 64ms/step - loss: 0.3705 - accuracy: 0.8365 - val_loss: 0.7119 - val_accuracy: 0.7171\n",
      "Epoch 25/100\n",
      "1216/1216 [==============================] - 77s 64ms/step - loss: 0.3631 - accuracy: 0.8400 - val_loss: 0.6929 - val_accuracy: 0.7220\n",
      "Epoch 26/100\n",
      "1216/1216 [==============================] - 76s 63ms/step - loss: 0.3559 - accuracy: 0.8440 - val_loss: 0.7151 - val_accuracy: 0.7239\n",
      "Epoch 27/100\n",
      "1216/1216 [==============================] - 76s 62ms/step - loss: 0.3500 - accuracy: 0.8471 - val_loss: 0.7411 - val_accuracy: 0.7217\n",
      "Epoch 28/100\n",
      "1216/1216 [==============================] - 76s 62ms/step - loss: 0.3425 - accuracy: 0.8508 - val_loss: 0.7238 - val_accuracy: 0.7330\n",
      "Epoch 29/100\n",
      "1216/1216 [==============================] - 76s 63ms/step - loss: 0.3373 - accuracy: 0.8530 - val_loss: 0.7617 - val_accuracy: 0.7228\n",
      "Epoch 30/100\n",
      "1216/1216 [==============================] - 74s 61ms/step - loss: 0.3311 - accuracy: 0.8565 - val_loss: 0.7883 - val_accuracy: 0.7235\n",
      "Epoch 31/100\n",
      "1216/1216 [==============================] - 75s 62ms/step - loss: 0.3257 - accuracy: 0.8586 - val_loss: 0.8251 - val_accuracy: 0.7234\n",
      "Epoch 31: early stopping\n"
     ]
    },
    {
     "data": {
      "text/plain": [
       "<keras.callbacks.History at 0x1c5bdc892e0>"
      ]
     },
     "execution_count": 47,
     "metadata": {},
     "output_type": "execute_result"
    }
   ],
   "source": [
    "model3.compile(loss=\"binary_crossentropy\",optimizer=\"Adam\", metrics=[\"accuracy\"])\n",
    "early_stopping = EarlyStopping(monitor='val_accuracy', patience=10, mode='max', verbose=1)\n",
    "model3.fit(X_train, y_train, validation_data= (X_test, y_test), batch_size=256,epochs=100, callbacks=[history_lr_3,early_stopping])"
   ]
  },
  {
   "cell_type": "code",
   "execution_count": 48,
   "metadata": {},
   "outputs": [
    {
     "data": {
      "image/png": "[encoded data removed]",
      "text/plain": [
       "<Figure size 576x360 with 1 Axes>"
      ]
     },
     "metadata": {
      "needs_background": "light"
     },
     "output_type": "display_data"
    }
   ],
   "source": [
    "pd.DataFrame(history_lr_3.history).plot(figsize=(8, 5))\n",
    "plt.grid(True)\n",
    "plt.gca().set_ylim(0, 1)\n",
    "plt.show()"
   ]
  }
 ],
 "metadata": {
  "kernelspec": {
   "display_name": "Python 3 (ipykernel)",
   "language": "python",
   "name": "python3"
  },
  "language_info": {
   "codemirror_mode": {
    "name": "ipython",
    "version": 3
   },
   "file_extension": ".py",
   "mimetype": "text/x-python",
   "name": "python",
   "nbconvert_exporter": "python",
   "pygments_lexer": "ipython3",
   "version": "3.9.7"
  }
 },
 "nbformat": 4,
 "nbformat_minor": 4
}
